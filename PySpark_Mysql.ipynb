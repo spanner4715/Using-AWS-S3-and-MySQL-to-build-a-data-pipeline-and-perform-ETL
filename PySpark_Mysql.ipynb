{
  "cells": [
    {
      "cell_type": "code",
      "execution_count": null,
      "id": "6fae074c",
      "metadata": {
        "id": "6fae074c"
      },
      "outputs": [],
      "source": [
        "#install mysql.connector libray \n",
        "!pip install mysql.connector"
      ]
    },
    {
      "cell_type": "markdown",
      "id": "c1e1dca6",
      "metadata": {
        "id": "c1e1dca6"
      },
      "source": [
        "# connect MySQL database using python"
      ]
    },
    {
      "cell_type": "code",
      "execution_count": null,
      "id": "2a71f74d",
      "metadata": {
        "id": "2a71f74d"
      },
      "outputs": [],
      "source": [
        "#import mysql connector library for mysql database\n",
        "import mysql.connector"
      ]
    },
    {
      "cell_type": "code",
      "execution_count": null,
      "id": "a065ba46",
      "metadata": {
        "id": "a065ba46"
      },
      "outputs": [],
      "source": [
        "#create connection object for database \n",
        "conn_object=mysql.connector.connect(host=\"127.0.0.1\",user=\"root\",port=3306)"
      ]
    },
    {
      "cell_type": "code",
      "execution_count": null,
      "id": "73c73b2c",
      "metadata": {
        "id": "73c73b2c"
      },
      "outputs": [],
      "source": [
        "#create cursor for executing query\n",
        "db_cursor = conn_object.cursor()"
      ]
    },
    {
      "cell_type": "code",
      "execution_count": null,
      "id": "7726f7c0",
      "metadata": {
        "id": "7726f7c0"
      },
      "outputs": [],
      "source": [
        "#create database\n",
        "db_cursor.execute(\"CREATE DATABASE flight;\")"
      ]
    },
    {
      "cell_type": "markdown",
      "id": "aa61fb59",
      "metadata": {
        "id": "aa61fb59"
      },
      "source": [
        "# create spark session object and import mysql connector jar file in current spark session object"
      ]
    },
    {
      "cell_type": "code",
      "execution_count": null,
      "id": "0f2b3ee5",
      "metadata": {
        "id": "0f2b3ee5"
      },
      "outputs": [],
      "source": [
        "#import pyspark library\n",
        "!pip install pyspark"
      ]
    },
    {
      "cell_type": "code",
      "execution_count": null,
      "id": "6a8f73e8",
      "metadata": {
        "id": "6a8f73e8"
      },
      "outputs": [],
      "source": [
        "#import spark session\n",
        "import pyspark\n",
        "from pyspark.sql import SparkSession\n",
        "spark = SparkSession.builder.config(\"spark.jars\", \"mysql-connector-java-8.0.28.jar\") \\\n",
        "    .master(\"local\").appName(\"PySpark_MySQL\").getOrCreate()"
      ]
    },
    {
      "cell_type": "code",
      "execution_count": null,
      "id": "1bce443d",
      "metadata": {
        "id": "1bce443d"
      },
      "outputs": [],
      "source": [
        "#create pyspark dataframe\n",
        "AirlineDF = spark.read.option(\"header\", \"true\").csv(\"airlines1.csv\")"
      ]
    },
    {
      "cell_type": "code",
      "execution_count": null,
      "id": "d31b7c65",
      "metadata": {
        "id": "d31b7c65"
      },
      "outputs": [],
      "source": [
        "AirlineDF.show(5)"
      ]
    },
    {
      "cell_type": "code",
      "execution_count": null,
      "id": "e9b6129b",
      "metadata": {
        "id": "e9b6129b"
      },
      "outputs": [],
      "source": [
        "AirlineDF5 = AirlineDF.select(\"_c0\",\"Year\",\"Quarter\", \"Month\", \"DayofMonth\", \"DayofWeek\" , \\\n",
        "                              \"FlightDate\",\"Reporting_Airline\",\"DOT_ID_Reporting_Airline\", \\\n",
        "                              \"OriginCityName\" , \"OriginState\", \"OriginStateFips\", \"OriginStateName\", \\\n",
        "                              \"Distance\" , \"DistanceGroup\",\"CarrierDelay\",\"WeatherDelay\", \"NASDelay\")"
      ]
    },
    {
      "cell_type": "code",
      "execution_count": null,
      "id": "e2f23ac3",
      "metadata": {
        "id": "e2f23ac3"
      },
      "outputs": [],
      "source": [
        "AirlineDF5.show(5)"
      ]
    },
    {
      "cell_type": "markdown",
      "id": "272a54a0",
      "metadata": {
        "id": "272a54a0"
      },
      "source": [
        "# Write data from pyspark dataframe to Mysql Database\n"
      ]
    },
    {
      "cell_type": "code",
      "execution_count": null,
      "id": "4c4b3f43",
      "metadata": {
        "id": "4c4b3f43"
      },
      "outputs": [],
      "source": [
        "AirlineDF5.write.format('jdbc').options(\n",
        "      url='jdbc:mysql://localhost:3306/flight',\n",
        "      driver='com.mysql.jdbc.Driver',\n",
        "      dbtable='Airline',\n",
        "      user='root',\n",
        "      password='').mode('append').save()"
      ]
    },
    {
      "cell_type": "markdown",
      "id": "773ff170",
      "metadata": {
        "id": "773ff170"
      },
      "source": [
        "# Read data form Mysql using Pyspark"
      ]
    },
    {
      "cell_type": "code",
      "execution_count": null,
      "id": "250aab38",
      "metadata": {
        "id": "250aab38"
      },
      "outputs": [],
      "source": [
        "AirDF = spark.read.format(\"jdbc\").option(\"url\", \"jdbc:mysql://localhost:3306/demodb5\") \\\n",
        "    .option(\"driver\", \"com.mysql.jdbc.Driver\").option(\"dbtable\", \"Airline\") \\\n",
        "    .option(\"user\", \"root\").option(\"password\", \"\").load()"
      ]
    },
    {
      "cell_type": "code",
      "execution_count": null,
      "id": "957cc6be",
      "metadata": {
        "id": "957cc6be"
      },
      "outputs": [],
      "source": [
        "AirDF.show()"
      ]
    },
    {
      "cell_type": "code",
      "execution_count": null,
      "id": "f9247e01",
      "metadata": {
        "id": "f9247e01"
      },
      "outputs": [],
      "source": [
        "AirDF.select(\"OriginStateName\").groupby(\"OriginStateName\").count().show()"
      ]
    }
  ],
  "metadata": {
    "kernelspec": {
      "display_name": "Python 3 (ipykernel)",
      "language": "python",
      "name": "python3"
    },
    "language_info": {
      "codemirror_mode": {
        "name": "ipython",
        "version": 3
      },
      "file_extension": ".py",
      "mimetype": "text/x-python",
      "name": "python",
      "nbconvert_exporter": "python",
      "pygments_lexer": "ipython3",
      "version": "3.9.7"
    },
    "colab": {
      "provenance": []
    }
  },
  "nbformat": 4,
  "nbformat_minor": 5
}